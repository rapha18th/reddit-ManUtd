{
 "cells": [
  {
   "cell_type": "code",
   "execution_count": 1,
   "id": "b4866975-ec78-49d5-8fb6-7b646ad3e2a6",
   "metadata": {},
   "outputs": [
    {
     "name": "stdout",
     "output_type": "stream",
     "text": [
      "Requirement already satisfied: praw in ./.conda/envs/d2l/lib/python3.9/site-packages (7.5.0)\n",
      "Requirement already satisfied: websocket-client>=0.54.0 in ./.conda/envs/d2l/lib/python3.9/site-packages (from praw) (1.2.3)\n",
      "Requirement already satisfied: prawcore<3,>=2.1 in ./.conda/envs/d2l/lib/python3.9/site-packages (from praw) (2.3.0)\n",
      "Requirement already satisfied: update-checker>=0.18 in ./.conda/envs/d2l/lib/python3.9/site-packages (from praw) (0.18.0)\n",
      "Requirement already satisfied: requests<3.0,>=2.6.0 in ./.conda/envs/d2l/lib/python3.9/site-packages (from prawcore<3,>=2.1->praw) (2.26.0)\n",
      "Requirement already satisfied: charset-normalizer~=2.0.0 in ./.conda/envs/d2l/lib/python3.9/site-packages (from requests<3.0,>=2.6.0->prawcore<3,>=2.1->praw) (2.0.9)\n",
      "Requirement already satisfied: urllib3<1.27,>=1.21.1 in ./.conda/envs/d2l/lib/python3.9/site-packages (from requests<3.0,>=2.6.0->prawcore<3,>=2.1->praw) (1.26.7)\n",
      "Requirement already satisfied: certifi>=2017.4.17 in ./.conda/envs/d2l/lib/python3.9/site-packages (from requests<3.0,>=2.6.0->prawcore<3,>=2.1->praw) (2021.10.8)\n",
      "Requirement already satisfied: idna<4,>=2.5 in ./.conda/envs/d2l/lib/python3.9/site-packages (from requests<3.0,>=2.6.0->prawcore<3,>=2.1->praw) (3.3)\n"
     ]
    }
   ],
   "source": [
    "!pip install praw\n",
    "import praw\n",
    "# create a reddit connection\n",
    "reddit = praw.Reddit(\n",
    "    client_id=\"vmpX7Kz86nmyRLl1qsOg_g\", \n",
    "    client_secret=\"_LeX-tECZrWo7zyh5w39u0w9ej76Cg\", \n",
    "    user_agent=\"data-creator\")"
   ]
  },
  {
   "cell_type": "code",
   "execution_count": 2,
   "id": "1bc43ae9-8365-45ac-91b4-da2e54ce8154",
   "metadata": {},
   "outputs": [
    {
     "name": "stdout",
     "output_type": "stream",
     "text": [
      "Sunday Daily Thread: What's everyone working on this week?\n",
      "\n",
      "Tuesday Daily Thread: Advanced questions\n",
      "\n",
      "Packaging Python with the PyOxidizer Pants Plugin\n",
      "\n",
      "Poetry has officially fixed / permanently included pip install -e\n",
      "\n",
      "Complete Guide on Python Decorators\n",
      "\n"
     ]
    }
   ],
   "source": [
    "subreddit = reddit.subreddit(\"Python\")\n",
    "\n",
    "for post in subreddit.hot(limit=5):\n",
    "    print(post.title)\n",
    "    print()\n"
   ]
  },
  {
   "cell_type": "code",
   "execution_count": 32,
   "id": "e15fa8d3-a47e-4255-9df9-869094aa1f85",
   "metadata": {},
   "outputs": [
    {
     "name": "stdout",
     "output_type": "stream",
     "text": [
      "                                               title  score      id subreddit  \\\n",
      "0                                   Daily Discussion     35  t44r12    soccer   \n",
      "1                                     Change My View     15  t46c8o    soccer   \n",
      "2  [Quds News] Former Egypt captain Mohamed About...   6643  t437tg    soccer   \n",
      "3  Édouard Mendy turns 30 today. He's currently E...    572  t44qna    soccer   \n",
      "4  European Super League to be relaunched NEXT WE...    826  t42sp7    soccer   \n",
      "5  Official: FIFA/UEFA suspend Russian clubs and ...  21480  t3kxk1    soccer   \n",
      "6  Gary Neville is asked about the worst gift he’...    334  t467fi    soccer   \n",
      "7  [Stan Collymore] We didn't kick American worke...   4581  t3qbra    soccer   \n",
      "8  Last night, Russian national Aleksej Mirančuk ...    564  t42que    soccer   \n",
      "9  [Sky Sports News] PGMOL General Manager Mike R...    416  t4436x    soccer   \n",
      "\n",
      "                                                 url  num_comments  \\\n",
      "0  https://www.reddit.com/r/soccer/comments/t44r1...           769   \n",
      "1  https://www.reddit.com/r/soccer/comments/t46c8...            91   \n",
      "2  https://twitter.com/qudsnen/status/14984150859...          1394   \n",
      "3  https://www.transfermarkt.co.uk/edouard-mendy/...            60   \n",
      "4  https://www.dailymail.co.uk/sport/sportsnews/a...           360   \n",
      "5  https://www.fifa.com/tournaments/mens/worldcup...          2444   \n",
      "6                    https://v.redd.it/nkaenu2ggrk81            10   \n",
      "7  https://twitter.com/StanCollymore/status/14983...           916   \n",
      "8                https://i.redd.it/0atge4tcaqk81.jpg            45   \n",
      "9  https://twitter.com/SkySportsNews/status/14985...           261   \n",
      "\n",
      "                                                body       created  \n",
      "0  This thread is for general football discussion...  1.646130e+09  \n",
      "1  Post an opinion and see if anyone can change i...  1.646136e+09  \n",
      "2                                                     1.646123e+09  \n",
      "3                                                     1.646130e+09  \n",
      "4                                                     1.646122e+09  \n",
      "5                                                     1.646070e+09  \n",
      "6                                                     1.646136e+09  \n",
      "7                                                     1.646083e+09  \n",
      "8                                                     1.646121e+09  \n",
      "9                                                     1.646127e+09  \n"
     ]
    }
   ],
   "source": [
    "import pandas as pd\n",
    "\n",
    "posts = []\n",
    "football_subreddit = reddit.subreddit('soccer')\n",
    "for post in football_subreddit.hot(limit=10):\n",
    "    posts.append([post.title, post.score, post.id, post.subreddit, post.url, post.num_comments, post.selftext, post.created])\n",
    "posts = pd.DataFrame(posts,columns=['title', 'score', 'id', 'subreddit', 'url', 'num_comments', 'body', 'created'])\n",
    "print(posts)"
   ]
  },
  {
   "cell_type": "code",
   "execution_count": 9,
   "id": "1efc3d86-c1ae-49ce-a03c-d963b7fe7518",
   "metadata": {},
   "outputs": [
    {
     "name": "stdout",
     "output_type": "stream",
     "text": [
      "['https://www.reddit.com/r/soccer/comments/t2lfih/prematch_thread_chelsea_vs_liverpool_league_cup/', 'https://www.reddit.com/r/soccer/comments/ssybur/prematch_thread_paris_saint_germain_vs_real/', 'https://www.reddit.com/r/soccer/comments/stqpam/prematch_thread_inter_milan_vs_liverpool_uefa/', 'https://www.reddit.com/r/soccer/comments/szg007/prematch_thread_sl_benfica_vs_afc_ajax_uefa/', 'https://www.reddit.com/r/soccer/comments/suk5jy/prematch_thread_barcelona_vs_napoli_uefa_europa/']\n"
     ]
    }
   ],
   "source": [
    "b = [i.url for i in football_subreddit.search(\"Pre Match Thread\", limit=100)]\n",
    "\n",
    "print(b[:5])\n",
    "    "
   ]
  },
  {
   "cell_type": "code",
   "execution_count": 3,
   "id": "9fa5becb-e17b-45bb-90ea-40896028a277",
   "metadata": {},
   "outputs": [
    {
     "name": "stdout",
     "output_type": "stream",
     "text": [
      "                                               title  score      id  \\\n",
      "0  [Post Match Thread] Manchester United 0 - 0 Wa...    329  t21eju   \n",
      "1                                   Daily Discussion     22  t3waxi   \n",
      "2  Darren Fletcher: \"People give the one narrativ...    234  t45nqd   \n",
      "3  Manchester United face Borussia Dortmund at Le...    131  t445j7   \n",
      "4  [Charlotte Duncker] John Murtough: \"We are now...     48  t46e1h   \n",
      "5  David De Gea has climbed above Peter Schmeiche...   1050  t3jmil   \n",
      "6  [Simon Stone] CEO Richard Arnold: “Everyone as...     16  t46esy   \n",
      "7  Since Ralf Rangnick became interim manager at ...   1499  t3ciz4   \n",
      "8  [Statsbomb] xG Difference, Premier League 2021...     30  t4282c   \n",
      "9  Manchester United from defensive set pieces in...      9  t47gev   \n",
      "\n",
      "   subreddit                                                url  num_comments  \\\n",
      "0  reddevils  https://www.reddit.com/r/reddevils/comments/t2...          1061   \n",
      "1  reddevils  https://www.reddit.com/r/reddevils/comments/t3...           200   \n",
      "2  reddevils  https://twitter.com/andymitten/status/14986177...            85   \n",
      "3  reddevils  https://twitter.com/lauriewhitwell/status/1498...             5   \n",
      "4  reddevils  https://twitter.com/CharDuncker/status/1498629...            20   \n",
      "5  reddevils  https://twitter.com/ManUtd/status/149832360785...            62   \n",
      "6  reddevils  https://twitter.com/sistoney67/status/14986297...            13   \n",
      "7  reddevils  https://twitter.com/StatmanDave/status/1498236...           172   \n",
      "8  reddevils  https://twitter.com/StatsBomb/status/149829187...            18   \n",
      "9  reddevils  https://twitter.com/statmandave/status/1498638...             3   \n",
      "\n",
      "                                                body       created  \n",
      "0  Manchester United : 47 Points from 27 Matches....  1.645894e+09  \n",
      "1  Daily discussion on Manchester United. \\n\\n&#x...  1.646100e+09  \n",
      "2                                                     1.646133e+09  \n",
      "3                                                     1.646127e+09  \n",
      "4                                                     1.646136e+09  \n",
      "5                                                     1.646066e+09  \n",
      "6                                                     1.646136e+09  \n",
      "7                                                     1.646044e+09  \n",
      "8                                                     1.646119e+09  \n",
      "9                                                     1.646140e+09  \n"
     ]
    }
   ],
   "source": [
    "import pandas as pd\n",
    "\n",
    "posts = []\n",
    "united_subreddit = reddit.subreddit('reddevils')\n",
    "for post in united_subreddit.hot(limit=10):\n",
    "    posts.append([post.title, post.score, post.id, post.subreddit, post.url, post.num_comments, post.selftext, post.created])\n",
    "posts = pd.DataFrame(posts,columns=['title', 'score', 'id', 'subreddit', 'url', 'num_comments', 'body', 'created'])\n",
    "print(posts)"
   ]
  },
  {
   "cell_type": "code",
   "execution_count": 4,
   "id": "62b268d8-3aa0-4475-b3d5-7d3b88da4745",
   "metadata": {},
   "outputs": [
    {
     "data": {
      "text/plain": [
       "['https://www.reddit.com/r/reddevils/comments/syogci/pre_match_thread_atletico_madrid_vs_manchester/',\n",
       " 'https://www.reddit.com/r/reddevils/comments/t14e9g/pre_match_thread_manchester_united_vs_watford/',\n",
       " 'https://www.reddit.com/r/reddevils/comments/ssbwkz/pre_match_thread_manchester_united_vs_brighton/',\n",
       " 'https://www.reddit.com/r/reddevils/comments/swayzo/pre_match_thread_leeds_united_vs_manchester_united/',\n",
       " 'https://www.reddit.com/r/reddevils/comments/sjkhes/pre_match_thread_manchester_united_vs/',\n",
       " 'https://www.reddit.com/r/reddevils/comments/sq1abg/pre_match_thread_manchester_united_vs_southampton/',\n",
       " 'https://www.reddit.com/r/reddevils/comments/sms2zb/pre_match_thread_burnley_vs_manchester_united/',\n",
       " 'https://www.reddit.com/r/reddevils/comments/s3vkzf/pre_match_thread_aston_villa_vs_manchester_united/',\n",
       " 'https://www.reddit.com/r/reddevils/comments/s70fvk/pre_match_thread_brentford_vs_manchester_united/',\n",
       " 'https://www.reddit.com/r/reddevils/comments/s9aav4/pre_match_thread_manchester_united_vs_west_ham/',\n",
       " 'https://www.reddit.com/r/reddevils/comments/rztz50/pre_match_thread_manchester_united_vs_aston_villa/',\n",
       " 'https://www.reddit.com/r/reddevils/comments/rr94mg/pre_match_thread_manchester_united_vs_burnley/',\n",
       " 'https://www.reddit.com/r/reddevils/comments/rucpzd/pre_match_thread_manchester_united_vs/',\n",
       " 'https://www.reddit.com/r/reddevils/comments/roxf2g/pre_match_thread_newcastle_united_vs_manchester/',\n",
       " 'https://www.reddit.com/r/reddevils/comments/r3jd5h/pre_match_thread_chelsea_vs_manchester_united/',\n",
       " 'https://www.reddit.com/r/reddevils/comments/rb079w/pre_match_thread_manchester_united_vs_bsc_young/',\n",
       " 'https://www.reddit.com/r/reddevils/comments/r8nr5f/pre_match_thread_manchester_united_vs_crystal/',\n",
       " 'https://www.reddit.com/r/reddevils/comments/qzn2fp/pre_match_thread_villarreal_vs_manchester_united/',\n",
       " 'https://www.reddit.com/r/reddevils/comments/rd8dax/pre_match_thread_norwich_city_vs_manchester_united/',\n",
       " 'https://www.reddit.com/r/reddevils/comments/r6g9od/pre_match_thread_manchester_united_vs_arsenal/',\n",
       " 'https://www.reddit.com/r/reddevils/comments/qxf8r8/pre_match_thread_watford_vs_manchester_united/',\n",
       " 'https://www.reddit.com/r/reddevils/comments/qna3pf/pre_match_thread_manchester_united_vs_manchester/',\n",
       " 'https://www.reddit.com/r/reddevils/comments/rflgim/pre_match_thread_brentford_vs_manchester_united/',\n",
       " 'https://www.reddit.com/r/reddevils/comments/qe2uw1/pre_match_thread_manchester_united_vs_liverpool/',\n",
       " 'https://www.reddit.com/r/reddevils/comments/qiddet/pre_match_thread_tottenham_hotspur_vs_manchester/',\n",
       " 'https://www.reddit.com/r/reddevils/comments/pz5swp/pre_match_thread_manchester_united_vs_everton/',\n",
       " 'https://www.reddit.com/r/reddevils/comments/qkda8o/pre_match_thread_atalanta_vs_manchester_united/',\n",
       " 'https://www.reddit.com/r/reddevils/comments/q8lpxl/pre_match_thread_leicester_city_vs_manchester/',\n",
       " 'https://www.reddit.com/r/reddevils/comments/qbcbsg/pre_match_thread_manchester_united_vs_atalanta/',\n",
       " 'https://www.reddit.com/r/reddevils/comments/pxbr1n/pre_match_thread_manchester_united_vs_villarreal/',\n",
       " 'https://www.reddit.com/r/reddevils/comments/pd6tdy/pre_match_thread_wolverhampton_wanderers_vs/',\n",
       " 'https://www.reddit.com/r/reddevils/comments/pliguj/pre_match_thread_manchester_united_vs_newcastle/',\n",
       " 'https://www.reddit.com/r/reddevils/comments/pug5vw/pre_match_thread_manchester_united_vs_aston_villa/',\n",
       " 'https://www.reddit.com/r/reddevils/comments/pned79/pre_match_thread_bsc_young_boys_vs_manchester/',\n",
       " 'https://www.reddit.com/r/reddevils/comments/psi1l1/pre_match_thread_manchester_united_vs_west_ham/',\n",
       " 'https://www.reddit.com/r/reddevils/comments/pqm7y4/pre_match_thread_west_ham_united_vs_manchester/',\n",
       " 'https://www.reddit.com/r/reddevils/comments/p3kj0c/pre_match_thread_manchester_united_vs_leeds_united/',\n",
       " 'https://www.reddit.com/r/reddevils/comments/p8pwvt/pre_match_thread_southampton_vs_manchester_united/',\n",
       " 'https://www.reddit.com/r/reddevils/comments/nkrgzh/pre_match_thread_villareal_vs_manchester_united/',\n",
       " 'https://www.reddit.com/r/reddevils/comments/om2p64/pre_match_thread_derby_county_vs_manchester_united/',\n",
       " 'https://www.reddit.com/r/reddevils/comments/oz31ff/pre_match_thread_manchester_united_vs_everton/',\n",
       " 'https://www.reddit.com/r/reddevils/comments/osn4fp/pre_match_thread_manchester_united_vs_brentford/',\n",
       " 'https://www.reddit.com/r/reddevils/comments/n99tn1/pre_match_thread_manchester_united_vs_leicester/',\n",
       " 'https://www.reddit.com/r/reddevils/comments/n2j9tp/pre_match_thread_manchester_united_vs_liverpool/',\n",
       " 'https://www.reddit.com/r/reddevils/comments/naqdun/pre_match_thread_manchester_united_vs_liverpool/',\n",
       " 'https://www.reddit.com/r/reddevils/comments/mo575k/pre_match_thread_tottenham_hotspur_vs_manchester/',\n",
       " 'https://www.reddit.com/r/reddevils/comments/n5jq5l/pre_match_thread_as_roma_vs_manchester_united/',\n",
       " 'https://www.reddit.com/r/reddevils/comments/n0gqg7/pre_match_thread_manchester_united_vs_as_roma/',\n",
       " 'https://www.reddit.com/r/reddevils/comments/n7oigs/pre_match_thread_aston_villa_vs_manchester_united/',\n",
       " 'https://www.reddit.com/r/reddevils/comments/nikt0i/pre_match_thread_wolverhampton_wanderers_vs/',\n",
       " 'https://www.reddit.com/r/reddevils/comments/ner2bj/pre_match_thread_manchester_united_vs_fulham/',\n",
       " 'https://www.reddit.com/r/reddevils/comments/mm6vln/pre_match_thread_granada_vs_manchester_united/',\n",
       " 'https://www.reddit.com/r/reddevils/comments/oq03vi/pre_match_thread_qpr_vs_manchester_united/',\n",
       " 'https://www.reddit.com/r/reddevils/comments/mxohp7/pre_match_thread_leeds_united_vs_manchester_united/',\n",
       " 'https://www.reddit.com/r/reddevils/comments/mj7t8r/pre_match_thread_manchester_united_vs_brighton/',\n",
       " 'https://www.reddit.com/r/reddevils/comments/mqx0bw/pre_match_thread_manchester_united_vs_granada/',\n",
       " 'https://www.reddit.com/r/reddevils/comments/mso6ni/pre_match_thread_manchester_united_vs_burnley/',\n",
       " 'https://www.reddit.com/r/reddevils/comments/ljarsv/pre_match_thread_west_brom_vs_manchester_united/',\n",
       " 'https://www.reddit.com/r/reddevils/comments/m4dhu5/pre_match_thread_manchester_united_vs_west_ham/',\n",
       " 'https://www.reddit.com/r/reddevils/comments/kyhl6s/pre_match_thread_liverpool_vs_manchester_united/',\n",
       " 'https://www.reddit.com/r/reddevils/comments/m76a83/pre_match_thread_ac_milan_vs_manchester_united/',\n",
       " 'https://www.reddit.com/r/reddevils/comments/lz7q6r/pre_match_thread_manchester_city_vs_manchester/',\n",
       " 'https://www.reddit.com/r/reddevils/comments/m23ayz/pre_match_thread_manchester_united_vs_ac_milan/',\n",
       " 'https://www.reddit.com/r/reddevils/comments/lts4wc/pre_match_thread_chelsea_vs_manchester_united/',\n",
       " 'https://www.reddit.com/r/reddevils/comments/m96bx9/pre_match_thread_leicester_city_vs_manchester/',\n",
       " 'https://www.reddit.com/r/reddevils/comments/labf7m/pre_match_thread_manchester_united_vs_southampton/',\n",
       " 'https://www.reddit.com/r/reddevils/comments/kjzhs1/pre_match_thread_leicester_city_vs_manchester/',\n",
       " 'https://www.reddit.com/r/reddevils/comments/lm5w40/pre_match_thread_real_sociedad_vs_manchester/',\n",
       " 'https://www.reddit.com/r/reddevils/comments/l3bdx7/pre_match_thread_manchester_united_vs_liverpool/',\n",
       " 'https://www.reddit.com/r/reddevils/comments/kr499s/pre_match_thread_manchester_united_vs_manchester/',\n",
       " 'https://www.reddit.com/r/reddevils/comments/knr0y8/pre_match_thread_manchester_united_vs_aston_villa/',\n",
       " 'https://www.reddit.com/r/reddevils/comments/l5ijpa/pre_match_thread_manchester_united_vs_sheffield/',\n",
       " 'https://www.reddit.com/r/reddevils/comments/kv77xy/pre_match_thread_burnley_vs_manchester_united/',\n",
       " 'https://www.reddit.com/r/reddevils/comments/k8mhsh/pre_match_thread_rb_leipzig_vs_manchester_united/',\n",
       " 'https://www.reddit.com/r/reddevils/comments/logyt9/pre_match_thread_manchester_united_vs_newcastle/',\n",
       " 'https://www.reddit.com/r/reddevils/comments/lw8ffi/pre_match_thread_crystal_palace_vs_manchester/',\n",
       " 'https://www.reddit.com/r/reddevils/comments/l88y9q/pre_match_thread_arsenal_vs_manchester_united/',\n",
       " 'https://www.reddit.com/r/reddevils/comments/klr76r/pre_match_thread_manchester_united_vs/',\n",
       " 'https://www.reddit.com/r/reddevils/comments/lrihon/pre_match_thread_manchester_united_vs_real/',\n",
       " 'https://www.reddit.com/r/reddevils/comments/l0p9cc/pre_match_thread_fulham_vs_manchester_united/',\n",
       " 'https://www.reddit.com/r/reddevils/comments/kb6xnf/pre_match_thread_manchester_united_vs_manchester/',\n",
       " 'https://www.reddit.com/r/reddevils/comments/kt8tqx/pre_match_thread_manchester_united_vs_watford/',\n",
       " 'https://www.reddit.com/r/reddevils/comments/je76jg/pre_match_thread_psg_vs_manchester_united/',\n",
       " 'https://www.reddit.com/r/reddevils/comments/k4ra03/pre_match_thread_manchester_united_vs_paris_saint/',\n",
       " 'https://www.reddit.com/r/reddevils/comments/keeg8a/pre_match_thread_sheffield_united_vs_manchester/',\n",
       " 'https://www.reddit.com/r/reddevils/comments/kg8agg/pre_match_thread_manchester_united_vs_leeds_united/',\n",
       " 'https://www.reddit.com/r/reddevils/comments/lfjcj6/pre_match_thread_manchester_united_vs_west_ham/',\n",
       " 'https://www.reddit.com/r/reddevils/comments/jlg6iz/pre_match_thread_manchester_united_vs_arsenal/',\n",
       " 'https://www.reddit.com/r/reddevils/comments/jj97go/pre_match_thread_manchester_united_vs_rb_leipzig/',\n",
       " 'https://www.reddit.com/r/reddevils/comments/jglq2e/pre_match_thread_manchester_united_vs_chelsea/',\n",
       " 'https://www.reddit.com/r/reddevils/comments/k6me7k/pre_match_thread_west_ham_united_vs_manchester/',\n",
       " 'https://www.reddit.com/r/reddevils/comments/ldfyp4/pre_match_thread_manchester_united_vs_everton/',\n",
       " 'https://www.reddit.com/r/reddevils/comments/kianyl/pre_match_thread_everton_vs_manchester_united/',\n",
       " 'https://www.reddit.com/r/reddevils/comments/jpbdkc/pre_match_thread_everton_vs_manchester_united/',\n",
       " 'https://www.reddit.com/r/reddevils/comments/k2p1p2/pre_match_thread_southampton_vs_manchester_united/',\n",
       " 'https://www.reddit.com/r/reddevils/comments/jcbzs5/pre_match_thread_newcastle_united_vs_manchester/',\n",
       " 'https://www.reddit.com/r/reddevils/comments/iv5fem/pre_match_thread_manchester_united_vs_crystal/',\n",
       " 'https://www.reddit.com/r/reddevils/comments/hxklby/pre_match_thread_leicester_city_vs_manchester/',\n",
       " 'https://www.reddit.com/r/reddevils/comments/hbfko4/pre_match_thread_tottenham_hotspur_vs_manchester/',\n",
       " 'https://www.reddit.com/r/reddevils/comments/ia7z1x/pre_match_thread_manchester_united_vs_sevilla/']"
      ]
     },
     "execution_count": 4,
     "metadata": {},
     "output_type": "execute_result"
    }
   ],
   "source": [
    "b = [i.url for i in united_subreddit.search(\"Pre Match Thread\", limit=100)]\n",
    "b"
   ]
  },
  {
   "cell_type": "code",
   "execution_count": 20,
   "id": "53233644-0ea8-4e3e-8d7a-5d9b5844fd5c",
   "metadata": {},
   "outputs": [],
   "source": [
    "results = [1, 1, 3, 3, 1, 1, 3, 1, 3, 3, 3, 3, 0, 1, 1, 3, 3, 3, 3, 3, 0, 0, 3, 3, 0, 1, 1, 3, 0, 3, 3,\n",
    "           3, 0, 1, 3, 0, 3, 1, 1, 3, 3, 1, 0, 0, 0, 1, 3, 3, 3, 3, 3, 3, 3, 3, 1, 3, 3, 3, 1, 1, 3, 1,\n",
    "           3, 3, 0, 0, 0, 1, 3, 0, 3, 0, 3, 0, 3, 1, 1, 3, 3, 3, 3, 0, 3, 3, 3, 3, 1, 3, 0, 3, 0, 3, 3,\n",
    "           3, 3, 3, 3, 0, 3, 3]"
   ]
  },
  {
   "cell_type": "code",
   "execution_count": 6,
   "id": "d4be9459-856e-489a-a5e0-adeceba2fdec",
   "metadata": {},
   "outputs": [],
   "source": [
    "from praw.models import MoreComments\n",
    "\n",
    "def best_comments(submission):\n",
    "    # Set comment sort to best before retrieving comments\n",
    "    submission.comments.replace_more(limit=0)\n",
    "    # Fetch the comments and print each comment body\n",
    "    # This must be done _after_ the above lines or they won't take affect.\n",
    "    for top_level_comment in submission.comments:\n",
    "        if isinstance(top_level_comment, MoreComments):\n",
    "            continue\n",
    "        # Here you can fetch data off the comment.\n",
    "        # For the sake of example, we're just printing the comment body.\n",
    "        return top_level_comment.body"
   ]
  },
  {
   "cell_type": "code",
   "execution_count": 7,
   "id": "7468de3c-3a8b-4faa-8fc0-6ee0a6dc7b85",
   "metadata": {},
   "outputs": [],
   "source": [
    "def best_reply(submission):\n",
    "    submission.comments.replace_more(limit=0)\n",
    "    for top_level_comment in submission.comments:\n",
    "        for second_level_comment in top_level_comment.replies:\n",
    "            return second_level_comment.body"
   ]
  },
  {
   "cell_type": "code",
   "execution_count": 8,
   "id": "b93a8ace-f202-4f0f-90dc-e855481f382c",
   "metadata": {},
   "outputs": [],
   "source": [
    "t = []\n",
    "for i in b:\n",
    "    d = reddit.submission(url=str(i))\n",
    "    t.append(d)      "
   ]
  },
  {
   "cell_type": "code",
   "execution_count": 9,
   "id": "ffb3abe7-6ae4-4d0c-af86-4647f8442417",
   "metadata": {},
   "outputs": [
    {
     "data": {
      "text/plain": [
       "[Submission(id='syogci'),\n",
       " Submission(id='t14e9g'),\n",
       " Submission(id='ssbwkz'),\n",
       " Submission(id='swayzo'),\n",
       " Submission(id='sjkhes')]"
      ]
     },
     "execution_count": 9,
     "metadata": {},
     "output_type": "execute_result"
    }
   ],
   "source": [
    "t[:5]"
   ]
  },
  {
   "cell_type": "code",
   "execution_count": 10,
   "id": "fb487e29-b0d8-420a-b833-7d32f0875f6c",
   "metadata": {},
   "outputs": [
    {
     "name": "stderr",
     "output_type": "stream",
     "text": [
      "  0%|          | 0/100 [00:00<?, ?it/s]"
     ]
    }
   ],
   "source": [
    "from tqdm import tqdm\n",
    "tc = tqdm(t)"
   ]
  },
  {
   "cell_type": "code",
   "execution_count": 11,
   "id": "bd7b1d6b-a465-4433-8c52-8186ac4e4901",
   "metadata": {},
   "outputs": [
    {
     "name": "stderr",
     "output_type": "stream",
     "text": [
      "100%|██████████| 100/100 [07:35<00:00,  4.56s/it]\n"
     ]
    }
   ],
   "source": [
    "top_comment = [best_comments(x) for x in tc]"
   ]
  },
  {
   "cell_type": "code",
   "execution_count": 12,
   "id": "432f4ccc-e21b-40f4-bcaa-2f7e0320a944",
   "metadata": {},
   "outputs": [
    {
     "data": {
      "text/plain": [
       "100"
      ]
     },
     "execution_count": 12,
     "metadata": {},
     "output_type": "execute_result"
    }
   ],
   "source": [
    "len(top_comment)"
   ]
  },
  {
   "cell_type": "code",
   "execution_count": 13,
   "id": "c8beec30-e422-4c3a-a636-be72cf3dd00e",
   "metadata": {},
   "outputs": [],
   "source": [
    "reply = [best_reply(x) for x in tc]"
   ]
  },
  {
   "cell_type": "code",
   "execution_count": 14,
   "id": "1b350f80-b08f-4186-88f1-caf6739a347d",
   "metadata": {},
   "outputs": [
    {
     "data": {
      "text/plain": [
       "100"
      ]
     },
     "execution_count": 14,
     "metadata": {},
     "output_type": "execute_result"
    }
   ],
   "source": [
    "len(reply)"
   ]
  },
  {
   "cell_type": "code",
   "execution_count": 15,
   "id": "95fcb6c6-064b-4035-864e-bc203388a9ac",
   "metadata": {},
   "outputs": [
    {
     "data": {
      "text/plain": [
       "'> Fernandes:\\r  \\n\\r  \\n\"I saw the goal of H \\\\[Maguire\\\\] and I see Paul running behind him, sliding on his knees, happy for him. I was slapping his head, saying **finally you\\'ve scored a goal with that big head**.\"\\n\\n🤣🤣🤣🤣🤣 I\\'m dead!!!'"
      ]
     },
     "execution_count": 15,
     "metadata": {},
     "output_type": "execute_result"
    }
   ],
   "source": [
    "best_comments(reddit.submission(url='https://www.reddit.com/r/reddevils/comments/syogci/pre_match_thread_atletico_madrid_vs_manchester/'))"
   ]
  },
  {
   "cell_type": "code",
   "execution_count": 16,
   "id": "b266008c-4a66-47bc-8328-2264d84eb1c9",
   "metadata": {},
   "outputs": [
    {
     "data": {
      "text/plain": [
       "'Lol'"
      ]
     },
     "execution_count": 16,
     "metadata": {},
     "output_type": "execute_result"
    }
   ],
   "source": [
    "best_reply(reddit.submission(url='https://www.reddit.com/r/reddevils/comments/syogci/pre_match_thread_atletico_madrid_vs_manchester/'))"
   ]
  },
  {
   "cell_type": "code",
   "execution_count": 17,
   "id": "d2a1511d-e3d9-414d-bf11-fc0662fab365",
   "metadata": {},
   "outputs": [],
   "source": [
    "import datetime\n",
    "def get_date(submission):\n",
    "    time = submission.created\n",
    "    return datetime.datetime.fromtimestamp(time)"
   ]
  },
  {
   "cell_type": "code",
   "execution_count": 18,
   "id": "68affaf7-0d48-4e87-a508-3bc808392882",
   "metadata": {},
   "outputs": [
    {
     "data": {
      "text/plain": [
       "[datetime.datetime(2022, 2, 22, 14, 7, 36),\n",
       " datetime.datetime(2022, 2, 25, 13, 45, 44),\n",
       " datetime.datetime(2022, 2, 14, 14, 27, 56),\n",
       " datetime.datetime(2022, 2, 19, 14, 12, 8),\n",
       " datetime.datetime(2022, 2, 3, 14, 25, 29)]"
      ]
     },
     "execution_count": 18,
     "metadata": {},
     "output_type": "execute_result"
    }
   ],
   "source": [
    "date_time = [get_date(x) for x in tc]\n",
    "date_time[:5]"
   ]
  },
  {
   "cell_type": "code",
   "execution_count": 19,
   "id": "73a34d2a-a36e-4367-a777-a5170dd83a98",
   "metadata": {},
   "outputs": [
    {
     "data": {
      "text/plain": [
       "100"
      ]
     },
     "execution_count": 19,
     "metadata": {},
     "output_type": "execute_result"
    }
   ],
   "source": [
    "len(date_time)"
   ]
  },
  {
   "cell_type": "code",
   "execution_count": 21,
   "id": "9fcacd4a-d072-4300-b945-f2da2cef03f3",
   "metadata": {},
   "outputs": [
    {
     "data": {
      "text/plain": [
       "100"
      ]
     },
     "execution_count": 21,
     "metadata": {},
     "output_type": "execute_result"
    }
   ],
   "source": [
    "len(results)"
   ]
  },
  {
   "cell_type": "code",
   "execution_count": 23,
   "id": "22db4eea-917a-425a-971f-18dcdf64c26d",
   "metadata": {},
   "outputs": [],
   "source": [
    "dict = {'top_comment': top_comment, 'reply': reply, 'result': results, 'date': date_time} "
   ]
  },
  {
   "cell_type": "code",
   "execution_count": 24,
   "id": "89e61245-aeb1-4948-8dd6-4bf004c60c36",
   "metadata": {},
   "outputs": [],
   "source": [
    "df = pd.DataFrame(dict)"
   ]
  },
  {
   "cell_type": "code",
   "execution_count": 25,
   "id": "b65a7910-bb1d-4586-ab63-18028c60523e",
   "metadata": {},
   "outputs": [
    {
     "data": {
      "text/html": [
       "<div>\n",
       "<style scoped>\n",
       "    .dataframe tbody tr th:only-of-type {\n",
       "        vertical-align: middle;\n",
       "    }\n",
       "\n",
       "    .dataframe tbody tr th {\n",
       "        vertical-align: top;\n",
       "    }\n",
       "\n",
       "    .dataframe thead th {\n",
       "        text-align: right;\n",
       "    }\n",
       "</style>\n",
       "<table border=\"1\" class=\"dataframe\">\n",
       "  <thead>\n",
       "    <tr style=\"text-align: right;\">\n",
       "      <th></th>\n",
       "      <th>top_comment</th>\n",
       "      <th>reply</th>\n",
       "      <th>result</th>\n",
       "      <th>date</th>\n",
       "    </tr>\n",
       "  </thead>\n",
       "  <tbody>\n",
       "    <tr>\n",
       "      <th>0</th>\n",
       "      <td>&gt; Fernandes:\\r  \\n\\r  \\n\"I saw the goal of H \\...</td>\n",
       "      <td>Lol</td>\n",
       "      <td>1</td>\n",
       "      <td>2022-02-22 14:07:36</td>\n",
       "    </tr>\n",
       "    <tr>\n",
       "      <th>1</th>\n",
       "      <td>I hope Elanga will start ahead of Rashford.</td>\n",
       "      <td>The hope is what kills you.</td>\n",
       "      <td>1</td>\n",
       "      <td>2022-02-25 13:45:44</td>\n",
       "    </tr>\n",
       "    <tr>\n",
       "      <th>2</th>\n",
       "      <td>Glancing at Brighton's form and they have draw...</td>\n",
       "      <td>We're gonna snatch that record from them with ...</td>\n",
       "      <td>3</td>\n",
       "      <td>2022-02-14 14:27:56</td>\n",
       "    </tr>\n",
       "    <tr>\n",
       "      <th>3</th>\n",
       "      <td>With Tottenham beating Man City and still havi...</td>\n",
       "      <td>It was a great performance from TOT. So sharp ...</td>\n",
       "      <td>3</td>\n",
       "      <td>2022-02-19 14:12:08</td>\n",
       "    </tr>\n",
       "    <tr>\n",
       "      <th>4</th>\n",
       "      <td>I swear this has felt like the longest breaks ...</td>\n",
       "      <td>First the one week, then 3 more since Sunday..</td>\n",
       "      <td>1</td>\n",
       "      <td>2022-02-03 14:25:29</td>\n",
       "    </tr>\n",
       "  </tbody>\n",
       "</table>\n",
       "</div>"
      ],
      "text/plain": [
       "                                         top_comment  \\\n",
       "0  > Fernandes:\\r  \\n\\r  \\n\"I saw the goal of H \\...   \n",
       "1        I hope Elanga will start ahead of Rashford.   \n",
       "2  Glancing at Brighton's form and they have draw...   \n",
       "3  With Tottenham beating Man City and still havi...   \n",
       "4  I swear this has felt like the longest breaks ...   \n",
       "\n",
       "                                               reply  result  \\\n",
       "0                                                Lol       1   \n",
       "1                        The hope is what kills you.       1   \n",
       "2  We're gonna snatch that record from them with ...       3   \n",
       "3  It was a great performance from TOT. So sharp ...       3   \n",
       "4     First the one week, then 3 more since Sunday..       1   \n",
       "\n",
       "                 date  \n",
       "0 2022-02-22 14:07:36  \n",
       "1 2022-02-25 13:45:44  \n",
       "2 2022-02-14 14:27:56  \n",
       "3 2022-02-19 14:12:08  \n",
       "4 2022-02-03 14:25:29  "
      ]
     },
     "execution_count": 25,
     "metadata": {},
     "output_type": "execute_result"
    }
   ],
   "source": [
    "df.head()"
   ]
  },
  {
   "cell_type": "code",
   "execution_count": 26,
   "id": "dead3d76-3f6c-4e34-879a-ca91e363b16a",
   "metadata": {},
   "outputs": [],
   "source": [
    "df.to_csv(\"reddit.csv\")"
   ]
  },
  {
   "cell_type": "code",
   "execution_count": 27,
   "id": "1cd31125-fa90-4177-b7cc-304724f529d3",
   "metadata": {},
   "outputs": [],
   "source": [
    "df_sub = df[['top_comment', 'result']]"
   ]
  },
  {
   "cell_type": "code",
   "execution_count": 29,
   "id": "2a5c699b-6558-4989-9923-98a04c8eb55c",
   "metadata": {},
   "outputs": [
    {
     "data": {
      "text/html": [
       "<div>\n",
       "<style scoped>\n",
       "    .dataframe tbody tr th:only-of-type {\n",
       "        vertical-align: middle;\n",
       "    }\n",
       "\n",
       "    .dataframe tbody tr th {\n",
       "        vertical-align: top;\n",
       "    }\n",
       "\n",
       "    .dataframe thead th {\n",
       "        text-align: right;\n",
       "    }\n",
       "</style>\n",
       "<table border=\"1\" class=\"dataframe\">\n",
       "  <thead>\n",
       "    <tr style=\"text-align: right;\">\n",
       "      <th></th>\n",
       "      <th>top_comment</th>\n",
       "      <th>result</th>\n",
       "    </tr>\n",
       "  </thead>\n",
       "  <tbody>\n",
       "    <tr>\n",
       "      <th>0</th>\n",
       "      <td>&gt; Fernandes:\\r  \\n\\r  \\n\"I saw the goal of H \\...</td>\n",
       "      <td>1</td>\n",
       "    </tr>\n",
       "    <tr>\n",
       "      <th>1</th>\n",
       "      <td>I hope Elanga will start ahead of Rashford.</td>\n",
       "      <td>1</td>\n",
       "    </tr>\n",
       "    <tr>\n",
       "      <th>2</th>\n",
       "      <td>Glancing at Brighton's form and they have draw...</td>\n",
       "      <td>3</td>\n",
       "    </tr>\n",
       "    <tr>\n",
       "      <th>3</th>\n",
       "      <td>With Tottenham beating Man City and still havi...</td>\n",
       "      <td>3</td>\n",
       "    </tr>\n",
       "    <tr>\n",
       "      <th>4</th>\n",
       "      <td>I swear this has felt like the longest breaks ...</td>\n",
       "      <td>1</td>\n",
       "    </tr>\n",
       "  </tbody>\n",
       "</table>\n",
       "</div>"
      ],
      "text/plain": [
       "                                         top_comment  result\n",
       "0  > Fernandes:\\r  \\n\\r  \\n\"I saw the goal of H \\...       1\n",
       "1        I hope Elanga will start ahead of Rashford.       1\n",
       "2  Glancing at Brighton's form and they have draw...       3\n",
       "3  With Tottenham beating Man City and still havi...       3\n",
       "4  I swear this has felt like the longest breaks ...       1"
      ]
     },
     "execution_count": 29,
     "metadata": {},
     "output_type": "execute_result"
    }
   ],
   "source": [
    "df_sub.head()"
   ]
  },
  {
   "cell_type": "code",
   "execution_count": 28,
   "id": "af12049e-2671-4c82-8b07-0242d1c6831e",
   "metadata": {},
   "outputs": [],
   "source": [
    "df_sub.to_csv(\"reddit_subset.csv\")"
   ]
  },
  {
   "cell_type": "code",
   "execution_count": null,
   "id": "effa346c-9d68-4850-9033-b8165e825e99",
   "metadata": {},
   "outputs": [],
   "source": []
  }
 ],
 "metadata": {
  "kernelspec": {
   "display_name": "d2l:Python",
   "language": "python",
   "name": "conda-env-d2l-py"
  },
  "language_info": {
   "codemirror_mode": {
    "name": "ipython",
    "version": 3
   },
   "file_extension": ".py",
   "mimetype": "text/x-python",
   "name": "python",
   "nbconvert_exporter": "python",
   "pygments_lexer": "ipython3",
   "version": "3.9.9"
  }
 },
 "nbformat": 4,
 "nbformat_minor": 5
}
